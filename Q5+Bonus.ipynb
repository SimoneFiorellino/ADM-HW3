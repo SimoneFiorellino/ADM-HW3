{
 "cells": [
  {
   "cell_type": "markdown",
   "metadata": {},
   "source": [
    "5) Algorithm"
   ]
  },
  {
   "cell_type": "code",
   "execution_count": 33,
   "metadata": {},
   "outputs": [],
   "source": [
    "def subsequence(st):\n",
    "    if len(st) == 1:\n",
    "        return list(st)\n",
    "    else:\n",
    "        subs = subsequence(st[:len(st)-1])\n",
    "        for element in subs:\n",
    "            if element[-1] < st[-1]:\n",
    "                subs.append(element + st[-1])\n",
    "        subs.append(st[-1])\n",
    "        return subs"
   ]
  },
  {
   "cell_type": "code",
   "execution_count": 34,
   "metadata": {},
   "outputs": [],
   "source": [
    "s = \"CADFECEILGJHABNOPSTIRYOEABILCNR.\""
   ]
  },
  {
   "cell_type": "code",
   "execution_count": 35,
   "metadata": {},
   "outputs": [],
   "source": [
    "subseq = subsequence(s)"
   ]
  },
  {
   "cell_type": "code",
   "execution_count": 39,
   "metadata": {},
   "outputs": [
    {
     "name": "stdout",
     "output_type": "stream",
     "text": [
      "Wall time: 3 ms\n"
     ]
    },
    {
     "data": {
      "text/plain": [
       "'CDFILNOPSTY'"
      ]
     },
     "execution_count": 39,
     "metadata": {},
     "output_type": "execute_result"
    }
   ],
   "source": [
    "%%time\n",
    "max(subseq, key=len)"
   ]
  },
  {
   "cell_type": "code",
   "execution_count": 6,
   "metadata": {},
   "outputs": [],
   "source": [
    "ex1 = \"bstshtbsrjyrsjhaezrhfhatrtmsmyujkjr6jnhnsfnsfyjryj\""
   ]
  },
  {
   "cell_type": "code",
   "execution_count": 7,
   "metadata": {},
   "outputs": [],
   "source": [
    "subs = subsequence(ex1)"
   ]
  },
  {
   "cell_type": "code",
   "execution_count": 8,
   "metadata": {},
   "outputs": [
    {
     "name": "stdout",
     "output_type": "stream",
     "text": [
      "Wall time: 0 ns\n"
     ]
    },
    {
     "data": {
      "text/plain": [
       "'befhjkrsy'"
      ]
     },
     "execution_count": 8,
     "metadata": {},
     "output_type": "execute_result"
    }
   ],
   "source": [
    "%%time\n",
    "max(subs, key=len)"
   ]
  },
  {
   "cell_type": "code",
   "execution_count": 9,
   "metadata": {},
   "outputs": [],
   "source": [
    "ex2 = \"dcjskcnsiaomcncjsoansjcidnsbscn\""
   ]
  },
  {
   "cell_type": "code",
   "execution_count": 10,
   "metadata": {},
   "outputs": [
    {
     "name": "stdout",
     "output_type": "stream",
     "text": [
      "Wall time: 10.1 ms\n"
     ]
    },
    {
     "data": {
      "text/plain": [
       "'djkmnos'"
      ]
     },
     "execution_count": 10,
     "metadata": {},
     "output_type": "execute_result"
    }
   ],
   "source": [
    "%%time\n",
    "subs = subsequence(ex2)\n",
    "max(subs, key=len)"
   ]
  },
  {
   "cell_type": "code",
   "execution_count": 18,
   "metadata": {},
   "outputs": [],
   "source": [
    "ex3 = \"hfejffeg\""
   ]
  },
  {
   "cell_type": "code",
   "execution_count": 19,
   "metadata": {},
   "outputs": [
    {
     "name": "stdout",
     "output_type": "stream",
     "text": [
      "Wall time: 0 ns\n"
     ]
    },
    {
     "data": {
      "text/plain": [
       "'efg'"
      ]
     },
     "execution_count": 19,
     "metadata": {},
     "output_type": "execute_result"
    }
   ],
   "source": [
    "%%time\n",
    "subs = subsequence(ex3)\n",
    "max(subs, key=len)"
   ]
  },
  {
   "cell_type": "code",
   "execution_count": 11,
   "metadata": {},
   "outputs": [],
   "source": [
    "ex4 = \"NDKXMWSNKSKFNFDCWGRDZFHXFFFARGAWEGFBFDRFGSGBSRBSHRBBZDFNDNFNDFNSVGRE\""
   ]
  },
  {
   "cell_type": "code",
   "execution_count": 12,
   "metadata": {},
   "outputs": [
    {
     "name": "stdout",
     "output_type": "stream",
     "text": [
      "Wall time: 3.72 s\n"
     ]
    },
    {
     "data": {
      "text/plain": [
       "'CDEFGHRSV'"
      ]
     },
     "execution_count": 12,
     "metadata": {},
     "output_type": "execute_result"
    }
   ],
   "source": [
    "%%time\n",
    "subs = subsequence(ex4)\n",
    "max(subs, key=len)"
   ]
  },
  {
   "cell_type": "code",
   "execution_count": 13,
   "metadata": {},
   "outputs": [],
   "source": [
    "ex5 = \"GHVBJLHJGOCKHJLNLLBJVLCLLJNBLVHLVLJMHVJBJBB\""
   ]
  },
  {
   "cell_type": "code",
   "execution_count": 14,
   "metadata": {},
   "outputs": [
    {
     "name": "stdout",
     "output_type": "stream",
     "text": [
      "Wall time: 81 ms\n"
     ]
    },
    {
     "data": {
      "text/plain": [
       "'GHJKLNV'"
      ]
     },
     "execution_count": 14,
     "metadata": {},
     "output_type": "execute_result"
    }
   ],
   "source": [
    "%%time\n",
    "subs = subsequence(ex5)\n",
    "max(subs, key=len)"
   ]
  },
  {
   "cell_type": "code",
   "execution_count": 20,
   "metadata": {},
   "outputs": [],
   "source": [
    "def long_com_seq(s1 , s2): \n",
    "    x = len(s1) \n",
    "    y = len(s2) \n",
    "    val = list([\"empty\"]*(y+1) for i in range(x+1))\n",
    "    for i in range(x+1): \n",
    "        for j in range(y+1): \n",
    "            if i == 0: \n",
    "                val[i][j] = 0\n",
    "            elif j == 0:\n",
    "                val[i][j] = 0\n",
    "            elif s1[i-1] == s2[j-1]: \n",
    "                val[i][j] = val[i-1][j-1]+1\n",
    "            else: \n",
    "                val[i][j] = max(val[i-1][j] , val[i][j-1])   \n",
    "    return val[x][y] "
   ]
  },
  {
   "cell_type": "code",
   "execution_count": 21,
   "metadata": {},
   "outputs": [],
   "source": [
    "s1 = \"CA\"\n",
    "s2 = \"ABCDEFGHIJKLMNOPQRSTUVWXYZ\""
   ]
  },
  {
   "cell_type": "code",
   "execution_count": 22,
   "metadata": {},
   "outputs": [
    {
     "data": {
      "text/plain": [
       "1"
      ]
     },
     "execution_count": 22,
     "metadata": {},
     "output_type": "execute_result"
    }
   ],
   "source": [
    "long_com_seq(s1, s2)"
   ]
  },
  {
   "cell_type": "code",
   "execution_count": 23,
   "metadata": {},
   "outputs": [],
   "source": [
    "s1 = \"NCSDNDNNCKSMNVDKSCMDSKKCMD\"\n",
    "s2 = \"CNNVNDJFNDNVND\""
   ]
  },
  {
   "cell_type": "code",
   "execution_count": 24,
   "metadata": {},
   "outputs": [
    {
     "data": {
      "text/plain": [
       "7"
      ]
     },
     "execution_count": 24,
     "metadata": {},
     "output_type": "execute_result"
    }
   ],
   "source": [
    "long_com_seq(s1, s2)"
   ]
  },
  {
   "cell_type": "markdown",
   "metadata": {},
   "source": [
    "The runtime complexity is given by the length of the input strings. If we call them *m* and *n*, the complexity is ***O(mn)***.\n",
    "<br>\n",
    "When *n* is the length of the alphabet, since *n* = 24 is a constant, the running time will be given only by *m* and therefore: ***O(m)***"
   ]
  },
  {
   "cell_type": "code",
   "execution_count": null,
   "metadata": {},
   "outputs": [],
   "source": []
  },
  {
   "cell_type": "markdown",
   "metadata": {},
   "source": [
    "BONUS"
   ]
  },
  {
   "cell_type": "markdown",
   "metadata": {},
   "source": [
    "base case: we show that the formula is verified for i=1, X[1]\n",
    "<br>\n",
    "X[1]= 1, if there does not exists such a j"
   ]
  },
  {
   "cell_type": "markdown",
   "metadata": {},
   "source": [
    "inductive step: let us now assume that the formula in question is verified for i\n",
    "<br>\n",
    "X[i] = 1 + max{X[j]; j = 0, ..., i-1, such that S[j]<S[i]}"
   ]
  },
  {
   "cell_type": "markdown",
   "metadata": {},
   "source": [
    "we prove the validity of the formula for i+1\n",
    "<br>\n",
    "X[i+1] = X[i] + 1\n",
    "<br>\n",
    "X[i+1] = 1 + 1 + max{X[j]; j = 0, ..., i-1=j, such that S[j]<S[i]}\n",
    "<br>\n",
    "if we assume a certain j such that we obtain\n",
    "<br>\n",
    "X[i+1] = 1 + max{X[j]; j = 0, ..., i=j, such that S[j]<S[i+1]}\n",
    "<br>\n",
    "the formula is proved\n"
   ]
  }
 ],
 "metadata": {
  "kernelspec": {
   "display_name": "Python 3",
   "language": "python",
   "name": "python3"
  },
  "language_info": {
   "codemirror_mode": {
    "name": "ipython",
    "version": 3
   },
   "file_extension": ".py",
   "mimetype": "text/x-python",
   "name": "python",
   "nbconvert_exporter": "python",
   "pygments_lexer": "ipython3",
   "version": "3.8.3"
  }
 },
 "nbformat": 4,
 "nbformat_minor": 4
}
